{
 "cells": [
  {
   "cell_type": "markdown",
   "id": "67aea1b8-34f7-46b1-88fd-a11aabdeb3f6",
   "metadata": {},
   "source": [
    "# Data Science Tools and Ecosystem\n"
   ]
  },
  {
   "cell_type": "markdown",
   "id": "631ed555-5514-4ee1-a516-3eb2c37b9d48",
   "metadata": {},
   "source": [
    "In this notebook, Data Science Tools and Ecosystem are summarized."
   ]
  },
  {
   "cell_type": "markdown",
   "id": "a5ea40b6-2655-48b3-9e4e-4d9e62c9526d",
   "metadata": {},
   "source": [
    "**Objectives:**\n",
    "* List popular languages for Data Science\n",
    "* List Commonly used libraries\n",
    "* List the data science tools"
   ]
  },
  {
   "cell_type": "markdown",
   "id": "aede84c6-d6db-48bd-9ed9-1bf71c2fe7e4",
   "metadata": {},
   "source": [
    "Some of the popular languages that Data Scientists use are:\n",
    "1. SQL\n",
    "2. Python\n",
    "3. R\n"
   ]
  },
  {
   "cell_type": "markdown",
   "id": "cb1c31dc-1e88-4708-be63-273fe02b8d56",
   "metadata": {
    "tags": []
   },
   "source": [
    "Some of the commonly used libraries used by Data Scientists include:\n",
    "1. Pandas\n",
    "2. Numpy\n",
    "3. Matplot Lib\n",
    "4. Seaborn\n",
    "\n"
   ]
  },
  {
   "cell_type": "markdown",
   "id": "93f40f23-9d00-473a-8d97-a50157f8ffb2",
   "metadata": {},
   "source": [
    "| Data Science Tools |\n",
    "| --------------------- |\n",
    "| MySQL |\n",
    "| MongoDB |\n",
    "| Apache Hadoop |\n",
    "\n"
   ]
  },
  {
   "cell_type": "markdown",
   "id": "4556dd66-6f7d-4150-a26d-23ff34890414",
   "metadata": {},
   "source": [
    "### Below are a few examples of evaluating arithmetic expressions in Python"
   ]
  },
  {
   "cell_type": "markdown",
   "id": "8cc7c4fb-6b3b-45a5-b858-84e390a9f38a",
   "metadata": {},
   "source": [
    "This a simple arithmetic expression to mutiply then add integers"
   ]
  },
  {
   "cell_type": "code",
   "execution_count": 2,
   "id": "3c508c7f-c0e1-43e2-b62e-171840d3b7be",
   "metadata": {
    "tags": []
   },
   "outputs": [
    {
     "data": {
      "text/plain": [
       "17"
      ]
     },
     "execution_count": 2,
     "metadata": {},
     "output_type": "execute_result"
    }
   ],
   "source": [
    "(3*4)+5"
   ]
  },
  {
   "cell_type": "markdown",
   "id": "35788f9d-3c26-49f8-a8be-5047c5ebbc04",
   "metadata": {},
   "source": [
    "This will convert 200 minutes to hours by diving by 60"
   ]
  },
  {
   "cell_type": "code",
   "execution_count": 3,
   "id": "5dee96e4-634e-46f8-a15f-b9bdf4923f04",
   "metadata": {
    "tags": []
   },
   "outputs": [
    {
     "data": {
      "text/plain": [
       "3.3333333333333335"
      ]
     },
     "execution_count": 3,
     "metadata": {},
     "output_type": "execute_result"
    }
   ],
   "source": [
    "200/60"
   ]
  },
  {
   "cell_type": "markdown",
   "id": "5cd3cb26-738b-4fdc-820d-4b4127915cb4",
   "metadata": {},
   "source": [
    "## Author"
   ]
  },
  {
   "cell_type": "markdown",
   "id": "989b3e2b-860a-4967-aedf-061853f3c8e8",
   "metadata": {},
   "source": [
    "Alexandre"
   ]
  }
 ],
 "metadata": {
  "kernelspec": {
   "display_name": "Python 3 (ipykernel)",
   "language": "python",
   "name": "python3"
  },
  "language_info": {
   "codemirror_mode": {
    "name": "ipython",
    "version": 3
   },
   "file_extension": ".py",
   "mimetype": "text/x-python",
   "name": "python",
   "nbconvert_exporter": "python",
   "pygments_lexer": "ipython3",
   "version": "3.11.5"
  }
 },
 "nbformat": 4,
 "nbformat_minor": 5
}
