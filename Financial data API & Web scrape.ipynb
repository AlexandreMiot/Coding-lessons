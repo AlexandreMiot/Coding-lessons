{
 "cells": [
  {
   "cell_type": "markdown",
   "id": "ef362b30-8df2-428e-ad48-2888397fd344",
   "metadata": {
    "tags": []
   },
   "source": [
    "# Analyzing Historical Stock/Revenue Data and Building a Dashboard"
   ]
  },
  {
   "cell_type": "markdown",
   "id": "1fb7e095-5b24-4acf-abcc-d0e8f0ffc2be",
   "metadata": {},
   "source": [
    "## 1. Extracting Tesla Stock Data Using yfinance"
   ]
  },
  {
   "cell_type": "code",
   "execution_count": null,
   "id": "ccb61599-ddb6-45b3-971a-877dd039f0cb",
   "metadata": {
    "tags": []
   },
   "outputs": [],
   "source": [
    "! pip install yfinance --upgrade --no-cache-dir"
   ]
  },
  {
   "cell_type": "code",
   "execution_count": 111,
   "id": "d9230c2a-e8f6-466c-a04e-a061d8035603",
   "metadata": {
    "tags": []
   },
   "outputs": [
    {
     "data": {
      "text/html": [
       "<div>\n",
       "<style scoped>\n",
       "    .dataframe tbody tr th:only-of-type {\n",
       "        vertical-align: middle;\n",
       "    }\n",
       "\n",
       "    .dataframe tbody tr th {\n",
       "        vertical-align: top;\n",
       "    }\n",
       "\n",
       "    .dataframe thead th {\n",
       "        text-align: right;\n",
       "    }\n",
       "</style>\n",
       "<table border=\"1\" class=\"dataframe\">\n",
       "  <thead>\n",
       "    <tr style=\"text-align: right;\">\n",
       "      <th></th>\n",
       "      <th>Open</th>\n",
       "      <th>High</th>\n",
       "      <th>Low</th>\n",
       "      <th>Close</th>\n",
       "      <th>Volume</th>\n",
       "      <th>Dividends</th>\n",
       "      <th>Stock Splits</th>\n",
       "    </tr>\n",
       "    <tr>\n",
       "      <th>Date</th>\n",
       "      <th></th>\n",
       "      <th></th>\n",
       "      <th></th>\n",
       "      <th></th>\n",
       "      <th></th>\n",
       "      <th></th>\n",
       "      <th></th>\n",
       "    </tr>\n",
       "  </thead>\n",
       "  <tbody>\n",
       "    <tr>\n",
       "      <th>2010-06-29 00:00:00-04:00</th>\n",
       "      <td>1.266667</td>\n",
       "      <td>1.666667</td>\n",
       "      <td>1.169333</td>\n",
       "      <td>1.592667</td>\n",
       "      <td>281494500</td>\n",
       "      <td>0.0</td>\n",
       "      <td>0.0</td>\n",
       "    </tr>\n",
       "    <tr>\n",
       "      <th>2010-06-30 00:00:00-04:00</th>\n",
       "      <td>1.719333</td>\n",
       "      <td>2.028000</td>\n",
       "      <td>1.553333</td>\n",
       "      <td>1.588667</td>\n",
       "      <td>257806500</td>\n",
       "      <td>0.0</td>\n",
       "      <td>0.0</td>\n",
       "    </tr>\n",
       "    <tr>\n",
       "      <th>2010-07-01 00:00:00-04:00</th>\n",
       "      <td>1.666667</td>\n",
       "      <td>1.728000</td>\n",
       "      <td>1.351333</td>\n",
       "      <td>1.464000</td>\n",
       "      <td>123282000</td>\n",
       "      <td>0.0</td>\n",
       "      <td>0.0</td>\n",
       "    </tr>\n",
       "    <tr>\n",
       "      <th>2010-07-02 00:00:00-04:00</th>\n",
       "      <td>1.533333</td>\n",
       "      <td>1.540000</td>\n",
       "      <td>1.247333</td>\n",
       "      <td>1.280000</td>\n",
       "      <td>77097000</td>\n",
       "      <td>0.0</td>\n",
       "      <td>0.0</td>\n",
       "    </tr>\n",
       "    <tr>\n",
       "      <th>2010-07-06 00:00:00-04:00</th>\n",
       "      <td>1.333333</td>\n",
       "      <td>1.333333</td>\n",
       "      <td>1.055333</td>\n",
       "      <td>1.074000</td>\n",
       "      <td>103003500</td>\n",
       "      <td>0.0</td>\n",
       "      <td>0.0</td>\n",
       "    </tr>\n",
       "  </tbody>\n",
       "</table>\n",
       "</div>"
      ],
      "text/plain": [
       "                               Open      High       Low     Close     Volume  \\\n",
       "Date                                                                           \n",
       "2010-06-29 00:00:00-04:00  1.266667  1.666667  1.169333  1.592667  281494500   \n",
       "2010-06-30 00:00:00-04:00  1.719333  2.028000  1.553333  1.588667  257806500   \n",
       "2010-07-01 00:00:00-04:00  1.666667  1.728000  1.351333  1.464000  123282000   \n",
       "2010-07-02 00:00:00-04:00  1.533333  1.540000  1.247333  1.280000   77097000   \n",
       "2010-07-06 00:00:00-04:00  1.333333  1.333333  1.055333  1.074000  103003500   \n",
       "\n",
       "                           Dividends  Stock Splits  \n",
       "Date                                                \n",
       "2010-06-29 00:00:00-04:00        0.0           0.0  \n",
       "2010-06-30 00:00:00-04:00        0.0           0.0  \n",
       "2010-07-01 00:00:00-04:00        0.0           0.0  \n",
       "2010-07-02 00:00:00-04:00        0.0           0.0  \n",
       "2010-07-06 00:00:00-04:00        0.0           0.0  "
      ]
     },
     "execution_count": 111,
     "metadata": {},
     "output_type": "execute_result"
    }
   ],
   "source": [
    "import yfinance as yf\n",
    "import pandas as pd\n",
    "\n",
    "tesla = yf.Ticker('TSLA')\n",
    "tesla_hist = tesla.history(period = 'max')\n",
    "df = pd.DataFrame(tesla_hist)\n",
    "df.head()"
   ]
  },
  {
   "cell_type": "markdown",
   "id": "3b190ea0-5d93-4de9-855b-9db0a358f5f3",
   "metadata": {},
   "source": [
    "## 2. Extracting Tesla Revenue Data Using Webscraping"
   ]
  },
  {
   "cell_type": "markdown",
   "id": "4b202262-6bcb-4360-b729-4d35ddcf7600",
   "metadata": {},
   "source": [
    "* ### We see that the it is successfully imported due to response 200.\n"
   ]
  },
  {
   "cell_type": "code",
   "execution_count": 141,
   "id": "b5781bab-42e0-4467-b3cf-9c2d24bfec37",
   "metadata": {
    "tags": []
   },
   "outputs": [
    {
     "name": "stdout",
     "output_type": "stream",
     "text": [
      "<Response [200]>\n"
     ]
    }
   ],
   "source": [
    "from bs4 import BeautifulSoup \n",
    "import requests \n",
    "import pandas as pd\n",
    "\n",
    "url = \"https://en.wiktionary.org/wiki/euh\"\n",
    "html = requests.get(url)\n",
    "print(html)"
   ]
  },
  {
   "cell_type": "markdown",
   "id": "fcfe718f-145f-4151-9172-19382653b7c0",
   "metadata": {},
   "source": [
    "* ### Error 404 (error), 403 means not allowed "
   ]
  },
  {
   "cell_type": "code",
   "execution_count": 142,
   "id": "bb3c75b6-2c5b-441a-a46f-c536e9f403c0",
   "metadata": {
    "tags": []
   },
   "outputs": [
    {
     "name": "stdout",
     "output_type": "stream",
     "text": [
      "<Response [404]>\n"
     ]
    }
   ],
   "source": [
    "url = \"https://finance.yahoo.com/quote/TSLA/financials?p=TSLA\"\n",
    "html = requests.get(url)\n",
    "print(html)"
   ]
  },
  {
   "cell_type": "markdown",
   "id": "7b57246e-b3e5-4b15-a6db-b3ebd43b3878",
   "metadata": {
    "tags": []
   },
   "source": [
    "* ### No error now, ask GPT why"
   ]
  },
  {
   "cell_type": "code",
   "execution_count": 143,
   "id": "b7424052-8193-4484-9b9a-4224b528447f",
   "metadata": {
    "tags": []
   },
   "outputs": [
    {
     "name": "stdout",
     "output_type": "stream",
     "text": [
      "<Response [200]>\n"
     ]
    }
   ],
   "source": [
    "headers = {'User-Agent': 'Mozilla/5.0 (Windows NT 10.0; Win64; x64) AppleWebKit/537.36 (KHTML, like Gecko) Chrome/91.0.4472.124 Safari/537.36'}\n",
    "html = requests.get(\"https://finance.yahoo.com/quote/TSLA/financials?p=TSLA\", headers=headers)\n",
    "\n",
    "print(html)"
   ]
  },
  {
   "cell_type": "markdown",
   "id": "a6584a24-1604-4191-a178-48c273a58e6f",
   "metadata": {
    "tags": []
   },
   "source": [
    "* ### Prettify and import whole html into beautiful soup"
   ]
  },
  {
   "cell_type": "code",
   "execution_count": 144,
   "id": "7dd9055a-4184-4516-a92a-6e45c24a4e60",
   "metadata": {
    "tags": []
   },
   "outputs": [],
   "source": [
    "soup = BeautifulSoup(html.text,\"html.parser\") \n",
    "#print(soup.prettify())"
   ]
  },
  {
   "cell_type": "markdown",
   "id": "130625cd-4acb-4f0c-b2bd-8250d4a796db",
   "metadata": {
    "tags": []
   },
   "source": [
    "* ### Find the table"
   ]
  },
  {
   "cell_type": "code",
   "execution_count": 145,
   "id": "32d93b46-2385-4063-9fa2-6702a5f20df7",
   "metadata": {
    "tags": []
   },
   "outputs": [],
   "source": [
    "table = soup.find(\"div\", class_ = \"M(0) Whs(n) BdEnd Bdc($seperatorColor) D(itb)\")\n",
    "#print(table.prettify())"
   ]
  },
  {
   "cell_type": "markdown",
   "id": "7ac0c901-b648-4d9b-8943-c12c0a9c8f9e",
   "metadata": {
    "tags": []
   },
   "source": [
    "* ### Find headers : you can't do a find all of a find all, but a find all of a find ! "
   ]
  },
  {
   "cell_type": "code",
   "execution_count": 146,
   "id": "b16ef51f-06df-42f9-a56a-3b62c79917cb",
   "metadata": {
    "tags": []
   },
   "outputs": [
    {
     "name": "stdout",
     "output_type": "stream",
     "text": [
      "[<span>Breakdown</span>, <span>ttm</span>, <span>12/31/2022</span>, <span>12/31/2021</span>, <span>12/31/2020</span>]\n"
     ]
    }
   ],
   "source": [
    "header_html = table.find(\"div\", class_ = \"D(tbr) C($primaryColor)\") #header bar HTML\n",
    "\n",
    "headers = header_html.find_all(\"span\") #within the header bar HTML, find the line with the text and make a list of the HTML\n",
    "print(headers)\n"
   ]
  },
  {
   "cell_type": "code",
   "execution_count": 147,
   "id": "559a3a2f-3bd9-403c-8e62-d87e7e7e2185",
   "metadata": {
    "tags": []
   },
   "outputs": [
    {
     "name": "stdout",
     "output_type": "stream",
     "text": [
      "['Breakdown', 'ttm', '12/31/2022', '12/31/2021', '12/31/2020']\n"
     ]
    }
   ],
   "source": [
    "titles = []\n",
    "\n",
    "for i in headers: #convert each HTML of the element of the list into text\n",
    "    title = i.text\n",
    "    titles.append(title)\n",
    "print(titles)"
   ]
  },
  {
   "cell_type": "markdown",
   "id": "dd2bfe6b-277f-4006-b5e9-4fc6c4e11371",
   "metadata": {},
   "source": [
    "* ### Assign the headers as the headers of our dataframe df"
   ]
  },
  {
   "cell_type": "code",
   "execution_count": 148,
   "id": "e970a972-fb22-40ee-8171-a2ead2a555dd",
   "metadata": {
    "tags": []
   },
   "outputs": [
    {
     "data": {
      "text/html": [
       "<div>\n",
       "<style scoped>\n",
       "    .dataframe tbody tr th:only-of-type {\n",
       "        vertical-align: middle;\n",
       "    }\n",
       "\n",
       "    .dataframe tbody tr th {\n",
       "        vertical-align: top;\n",
       "    }\n",
       "\n",
       "    .dataframe thead th {\n",
       "        text-align: right;\n",
       "    }\n",
       "</style>\n",
       "<table border=\"1\" class=\"dataframe\">\n",
       "  <thead>\n",
       "    <tr style=\"text-align: right;\">\n",
       "      <th></th>\n",
       "      <th>Breakdown</th>\n",
       "      <th>ttm</th>\n",
       "      <th>12/31/2022</th>\n",
       "      <th>12/31/2021</th>\n",
       "      <th>12/31/2020</th>\n",
       "    </tr>\n",
       "  </thead>\n",
       "  <tbody>\n",
       "  </tbody>\n",
       "</table>\n",
       "</div>"
      ],
      "text/plain": [
       "Empty DataFrame\n",
       "Columns: [Breakdown, ttm, 12/31/2022, 12/31/2021, 12/31/2020]\n",
       "Index: []"
      ]
     },
     "execution_count": 148,
     "metadata": {},
     "output_type": "execute_result"
    }
   ],
   "source": [
    "import pandas as pd\n",
    "\n",
    "df = pd.DataFrame(columns = titles)\n",
    "df\n"
   ]
  },
  {
   "cell_type": "code",
   "execution_count": 149,
   "id": "5d5d7e82-50a6-4737-82bd-f6676e839b35",
   "metadata": {
    "tags": []
   },
   "outputs": [
    {
     "name": "stdout",
     "output_type": "stream",
     "text": [
      "['Cost of Revenue', '76,925,000', '60,609,000', '40,217,000', '24,906,000']\n",
      "['Gross Profit', '18,999,000', '20,853,000', '13,606,000', '6,630,000']\n",
      "['Operating Expense', '8,237,000', '7,021,000', '7,110,000', '4,636,000']\n",
      "['Operating Income', '10,762,000', '13,832,000', '6,496,000', '1,994,000']\n",
      "['Net Non Operating Interest Income Expense', '762,000', '106,000', '-315,000', '-718,000']\n",
      "['Other Income Expense', '241,000', '-219,000', '162,000', '-122,000']\n",
      "['Pretax Income', '11,765,000', '13,719,000', '6,343,000', '1,154,000']\n",
      "['Tax Provision', '1,027,000', '1,132,000', '699,000', '292,000']\n",
      "['Net Income Common Stockholders', '10,794,000', '12,583,000', '5,524,000', '721,000']\n"
     ]
    },
    {
     "data": {
      "text/html": [
       "<div>\n",
       "<style scoped>\n",
       "    .dataframe tbody tr th:only-of-type {\n",
       "        vertical-align: middle;\n",
       "    }\n",
       "\n",
       "    .dataframe tbody tr th {\n",
       "        vertical-align: top;\n",
       "    }\n",
       "\n",
       "    .dataframe thead th {\n",
       "        text-align: right;\n",
       "    }\n",
       "</style>\n",
       "<table border=\"1\" class=\"dataframe\">\n",
       "  <thead>\n",
       "    <tr style=\"text-align: right;\">\n",
       "      <th></th>\n",
       "      <th>Breakdown</th>\n",
       "      <th>ttm</th>\n",
       "      <th>12/31/2022</th>\n",
       "      <th>12/31/2021</th>\n",
       "      <th>12/31/2020</th>\n",
       "    </tr>\n",
       "  </thead>\n",
       "  <tbody>\n",
       "    <tr>\n",
       "      <th>0</th>\n",
       "      <td>Cost of Revenue</td>\n",
       "      <td>76,925,000</td>\n",
       "      <td>60,609,000</td>\n",
       "      <td>40,217,000</td>\n",
       "      <td>24,906,000</td>\n",
       "    </tr>\n",
       "    <tr>\n",
       "      <th>1</th>\n",
       "      <td>Gross Profit</td>\n",
       "      <td>18,999,000</td>\n",
       "      <td>20,853,000</td>\n",
       "      <td>13,606,000</td>\n",
       "      <td>6,630,000</td>\n",
       "    </tr>\n",
       "    <tr>\n",
       "      <th>2</th>\n",
       "      <td>Operating Expense</td>\n",
       "      <td>8,237,000</td>\n",
       "      <td>7,021,000</td>\n",
       "      <td>7,110,000</td>\n",
       "      <td>4,636,000</td>\n",
       "    </tr>\n",
       "    <tr>\n",
       "      <th>3</th>\n",
       "      <td>Operating Income</td>\n",
       "      <td>10,762,000</td>\n",
       "      <td>13,832,000</td>\n",
       "      <td>6,496,000</td>\n",
       "      <td>1,994,000</td>\n",
       "    </tr>\n",
       "    <tr>\n",
       "      <th>4</th>\n",
       "      <td>Net Non Operating Interest Income Expense</td>\n",
       "      <td>762,000</td>\n",
       "      <td>106,000</td>\n",
       "      <td>-315,000</td>\n",
       "      <td>-718,000</td>\n",
       "    </tr>\n",
       "    <tr>\n",
       "      <th>5</th>\n",
       "      <td>Other Income Expense</td>\n",
       "      <td>241,000</td>\n",
       "      <td>-219,000</td>\n",
       "      <td>162,000</td>\n",
       "      <td>-122,000</td>\n",
       "    </tr>\n",
       "    <tr>\n",
       "      <th>6</th>\n",
       "      <td>Pretax Income</td>\n",
       "      <td>11,765,000</td>\n",
       "      <td>13,719,000</td>\n",
       "      <td>6,343,000</td>\n",
       "      <td>1,154,000</td>\n",
       "    </tr>\n",
       "    <tr>\n",
       "      <th>7</th>\n",
       "      <td>Tax Provision</td>\n",
       "      <td>1,027,000</td>\n",
       "      <td>1,132,000</td>\n",
       "      <td>699,000</td>\n",
       "      <td>292,000</td>\n",
       "    </tr>\n",
       "    <tr>\n",
       "      <th>8</th>\n",
       "      <td>Net Income Common Stockholders</td>\n",
       "      <td>10,794,000</td>\n",
       "      <td>12,583,000</td>\n",
       "      <td>5,524,000</td>\n",
       "      <td>721,000</td>\n",
       "    </tr>\n",
       "  </tbody>\n",
       "</table>\n",
       "</div>"
      ],
      "text/plain": [
       "                                   Breakdown         ttm  12/31/2022  \\\n",
       "0                            Cost of Revenue  76,925,000  60,609,000   \n",
       "1                               Gross Profit  18,999,000  20,853,000   \n",
       "2                          Operating Expense   8,237,000   7,021,000   \n",
       "3                           Operating Income  10,762,000  13,832,000   \n",
       "4  Net Non Operating Interest Income Expense     762,000     106,000   \n",
       "5                       Other Income Expense     241,000    -219,000   \n",
       "6                              Pretax Income  11,765,000  13,719,000   \n",
       "7                              Tax Provision   1,027,000   1,132,000   \n",
       "8             Net Income Common Stockholders  10,794,000  12,583,000   \n",
       "\n",
       "   12/31/2021  12/31/2020  \n",
       "0  40,217,000  24,906,000  \n",
       "1  13,606,000   6,630,000  \n",
       "2   7,110,000   4,636,000  \n",
       "3   6,496,000   1,994,000  \n",
       "4    -315,000    -718,000  \n",
       "5     162,000    -122,000  \n",
       "6   6,343,000   1,154,000  \n",
       "7     699,000     292,000  \n",
       "8   5,524,000     721,000  "
      ]
     },
     "execution_count": 149,
     "metadata": {},
     "output_type": "execute_result"
    }
   ],
   "source": [
    "# do a loop that finds all the tables rows (usually \"tr\")\n",
    "values_html = table.find(\"div\", class_ = \"D(tbrg)\")\n",
    "rows = values_html.find_all(\"div\", class_ = \"D(tbr) fi-row Bgc($hoverBgColor):h\")\n",
    "\n",
    "data_txt = []\n",
    "\n",
    "for i in rows[1:10]:                                  #you have to do it up to 10 as otherwise 'row' 11 isnt same length as out dataframe df\n",
    "    #print(i.text)                                     # I get here all the text and numbers from all the rows. \n",
    "    data = i.find_all(\"span\")                          #not doing a find all of find all (error), because we take i. \n",
    "    #print(data)\n",
    "    row = [tr.text for tr in data]\n",
    "    print(row)\n",
    "    \n",
    "                                                        \n",
    "    l = len(df)                                         #assign row numbers to df\n",
    "    df.loc[l] = row\n",
    "                                  \n",
    "\n",
    "df\n",
    "\n",
    "\n",
    "#elements_rows_html = table_html.find_all(\"div\", class_ = \"D(tbc) Ta(start) Pend(15px)--mv2 Pend(10px) Bxz(bb) Py(8px) Bdends(s) Bdbs(s) Bdstarts(s) Bdstartw(1px) Bdbw(1px) Bdendw(1px) Bdc($seperatorColor) Pos(st) Start(0) Bgc($lv2BgColor) fi-row:h_Bgc($hoverBgColor) Pstart(15px)--mv2 Pstart(10px)\")\n",
    "#print(len(elements_rows_html))\n"
   ]
  },
  {
   "cell_type": "markdown",
   "id": "434c4827-2fd0-4e0d-8f1f-37cc5cd1e7f2",
   "metadata": {},
   "source": [
    "* ### Let's extract tesla revenue"
   ]
  },
  {
   "cell_type": "code",
   "execution_count": 150,
   "id": "f9b194cf-91a6-46d3-aeb7-e699d3163a87",
   "metadata": {
    "tags": []
   },
   "outputs": [
    {
     "data": {
      "text/plain": [
       "Breakdown     Cost of Revenue\n",
       "ttm                76,925,000\n",
       "12/31/2022         60,609,000\n",
       "12/31/2021         40,217,000\n",
       "12/31/2020         24,906,000\n",
       "Name: 0, dtype: object"
      ]
     },
     "execution_count": 150,
     "metadata": {},
     "output_type": "execute_result"
    }
   ],
   "source": [
    "revenue = df.iloc[0,:]\n",
    "revenue"
   ]
  },
  {
   "cell_type": "markdown",
   "id": "4e382df6-17a8-4a80-8fb7-39fe34052b4a",
   "metadata": {},
   "source": [
    "### 3. Extracting GameStop Stock Data Using yfinance"
   ]
  },
  {
   "cell_type": "code",
   "execution_count": null,
   "id": "ca4b42b3-6c21-4429-9cce-46fd5a786d21",
   "metadata": {
    "tags": []
   },
   "outputs": [],
   "source": [
    "! pip install yfinance --upgrade --no-cache-dir\n",
    "import yfinance as yf\n",
    "game_stp = yf.Ticker(\"GME\")\n",
    "game_stp.info"
   ]
  },
  {
   "cell_type": "code",
   "execution_count": 5,
   "id": "9fa2ea68-96b4-47f9-b070-4dd71fb495b0",
   "metadata": {
    "tags": []
   },
   "outputs": [
    {
     "data": {
      "text/html": [
       "<div>\n",
       "<style scoped>\n",
       "    .dataframe tbody tr th:only-of-type {\n",
       "        vertical-align: middle;\n",
       "    }\n",
       "\n",
       "    .dataframe tbody tr th {\n",
       "        vertical-align: top;\n",
       "    }\n",
       "\n",
       "    .dataframe thead th {\n",
       "        text-align: right;\n",
       "    }\n",
       "</style>\n",
       "<table border=\"1\" class=\"dataframe\">\n",
       "  <thead>\n",
       "    <tr style=\"text-align: right;\">\n",
       "      <th></th>\n",
       "      <th>Open</th>\n",
       "      <th>High</th>\n",
       "      <th>Low</th>\n",
       "      <th>Close</th>\n",
       "      <th>Volume</th>\n",
       "      <th>Dividends</th>\n",
       "      <th>Stock Splits</th>\n",
       "    </tr>\n",
       "    <tr>\n",
       "      <th>Date</th>\n",
       "      <th></th>\n",
       "      <th></th>\n",
       "      <th></th>\n",
       "      <th></th>\n",
       "      <th></th>\n",
       "      <th></th>\n",
       "      <th></th>\n",
       "    </tr>\n",
       "  </thead>\n",
       "  <tbody>\n",
       "    <tr>\n",
       "      <th>2002-02-13 00:00:00-05:00</th>\n",
       "      <td>1.620129</td>\n",
       "      <td>1.693350</td>\n",
       "      <td>1.603296</td>\n",
       "      <td>1.691667</td>\n",
       "      <td>76216000</td>\n",
       "      <td>0.0</td>\n",
       "      <td>0.0</td>\n",
       "    </tr>\n",
       "    <tr>\n",
       "      <th>2002-02-14 00:00:00-05:00</th>\n",
       "      <td>1.712707</td>\n",
       "      <td>1.716074</td>\n",
       "      <td>1.670626</td>\n",
       "      <td>1.683251</td>\n",
       "      <td>11021600</td>\n",
       "      <td>0.0</td>\n",
       "      <td>0.0</td>\n",
       "    </tr>\n",
       "    <tr>\n",
       "      <th>2002-02-15 00:00:00-05:00</th>\n",
       "      <td>1.683251</td>\n",
       "      <td>1.687459</td>\n",
       "      <td>1.658002</td>\n",
       "      <td>1.674834</td>\n",
       "      <td>8389600</td>\n",
       "      <td>0.0</td>\n",
       "      <td>0.0</td>\n",
       "    </tr>\n",
       "    <tr>\n",
       "      <th>2002-02-19 00:00:00-05:00</th>\n",
       "      <td>1.666418</td>\n",
       "      <td>1.666418</td>\n",
       "      <td>1.578047</td>\n",
       "      <td>1.607504</td>\n",
       "      <td>7410400</td>\n",
       "      <td>0.0</td>\n",
       "      <td>0.0</td>\n",
       "    </tr>\n",
       "    <tr>\n",
       "      <th>2002-02-20 00:00:00-05:00</th>\n",
       "      <td>1.615921</td>\n",
       "      <td>1.662210</td>\n",
       "      <td>1.603296</td>\n",
       "      <td>1.662210</td>\n",
       "      <td>6892800</td>\n",
       "      <td>0.0</td>\n",
       "      <td>0.0</td>\n",
       "    </tr>\n",
       "    <tr>\n",
       "      <th>...</th>\n",
       "      <td>...</td>\n",
       "      <td>...</td>\n",
       "      <td>...</td>\n",
       "      <td>...</td>\n",
       "      <td>...</td>\n",
       "      <td>...</td>\n",
       "      <td>...</td>\n",
       "    </tr>\n",
       "    <tr>\n",
       "      <th>2024-01-04 00:00:00-05:00</th>\n",
       "      <td>16.510000</td>\n",
       "      <td>16.750000</td>\n",
       "      <td>16.309999</td>\n",
       "      <td>16.360001</td>\n",
       "      <td>2671500</td>\n",
       "      <td>0.0</td>\n",
       "      <td>0.0</td>\n",
       "    </tr>\n",
       "    <tr>\n",
       "      <th>2024-01-05 00:00:00-05:00</th>\n",
       "      <td>16.160000</td>\n",
       "      <td>16.520000</td>\n",
       "      <td>15.960000</td>\n",
       "      <td>15.960000</td>\n",
       "      <td>2615700</td>\n",
       "      <td>0.0</td>\n",
       "      <td>0.0</td>\n",
       "    </tr>\n",
       "    <tr>\n",
       "      <th>2024-01-08 00:00:00-05:00</th>\n",
       "      <td>15.780000</td>\n",
       "      <td>16.120001</td>\n",
       "      <td>15.700000</td>\n",
       "      <td>15.790000</td>\n",
       "      <td>3031100</td>\n",
       "      <td>0.0</td>\n",
       "      <td>0.0</td>\n",
       "    </tr>\n",
       "    <tr>\n",
       "      <th>2024-01-09 00:00:00-05:00</th>\n",
       "      <td>15.590000</td>\n",
       "      <td>15.620000</td>\n",
       "      <td>15.120000</td>\n",
       "      <td>15.160000</td>\n",
       "      <td>3105300</td>\n",
       "      <td>0.0</td>\n",
       "      <td>0.0</td>\n",
       "    </tr>\n",
       "    <tr>\n",
       "      <th>2024-01-10 00:00:00-05:00</th>\n",
       "      <td>15.120000</td>\n",
       "      <td>15.755000</td>\n",
       "      <td>14.980000</td>\n",
       "      <td>15.730000</td>\n",
       "      <td>3171846</td>\n",
       "      <td>0.0</td>\n",
       "      <td>0.0</td>\n",
       "    </tr>\n",
       "  </tbody>\n",
       "</table>\n",
       "<p>5515 rows × 7 columns</p>\n",
       "</div>"
      ],
      "text/plain": [
       "                                Open       High        Low      Close  \\\n",
       "Date                                                                    \n",
       "2002-02-13 00:00:00-05:00   1.620129   1.693350   1.603296   1.691667   \n",
       "2002-02-14 00:00:00-05:00   1.712707   1.716074   1.670626   1.683251   \n",
       "2002-02-15 00:00:00-05:00   1.683251   1.687459   1.658002   1.674834   \n",
       "2002-02-19 00:00:00-05:00   1.666418   1.666418   1.578047   1.607504   \n",
       "2002-02-20 00:00:00-05:00   1.615921   1.662210   1.603296   1.662210   \n",
       "...                              ...        ...        ...        ...   \n",
       "2024-01-04 00:00:00-05:00  16.510000  16.750000  16.309999  16.360001   \n",
       "2024-01-05 00:00:00-05:00  16.160000  16.520000  15.960000  15.960000   \n",
       "2024-01-08 00:00:00-05:00  15.780000  16.120001  15.700000  15.790000   \n",
       "2024-01-09 00:00:00-05:00  15.590000  15.620000  15.120000  15.160000   \n",
       "2024-01-10 00:00:00-05:00  15.120000  15.755000  14.980000  15.730000   \n",
       "\n",
       "                             Volume  Dividends  Stock Splits  \n",
       "Date                                                          \n",
       "2002-02-13 00:00:00-05:00  76216000        0.0           0.0  \n",
       "2002-02-14 00:00:00-05:00  11021600        0.0           0.0  \n",
       "2002-02-15 00:00:00-05:00   8389600        0.0           0.0  \n",
       "2002-02-19 00:00:00-05:00   7410400        0.0           0.0  \n",
       "2002-02-20 00:00:00-05:00   6892800        0.0           0.0  \n",
       "...                             ...        ...           ...  \n",
       "2024-01-04 00:00:00-05:00   2671500        0.0           0.0  \n",
       "2024-01-05 00:00:00-05:00   2615700        0.0           0.0  \n",
       "2024-01-08 00:00:00-05:00   3031100        0.0           0.0  \n",
       "2024-01-09 00:00:00-05:00   3105300        0.0           0.0  \n",
       "2024-01-10 00:00:00-05:00   3171846        0.0           0.0  \n",
       "\n",
       "[5515 rows x 7 columns]"
      ]
     },
     "execution_count": 5,
     "metadata": {},
     "output_type": "execute_result"
    }
   ],
   "source": [
    "game_stp_stck = game_stp.history(period = 'max')\n",
    "game_stp_stck"
   ]
  },
  {
   "cell_type": "markdown",
   "id": "72edb4f3-fba6-4e88-b627-b65340a4d465",
   "metadata": {
    "tags": []
   },
   "source": [
    "### 4. Extracting GameStop Revenue Data Using Webscraping "
   ]
  },
  {
   "cell_type": "code",
   "execution_count": 134,
   "id": "8a2309b4-a2f4-4554-b7a8-6bf128e0ed38",
   "metadata": {
    "tags": []
   },
   "outputs": [
    {
     "data": {
      "text/plain": [
       "<Response [200]>"
      ]
     },
     "execution_count": 134,
     "metadata": {},
     "output_type": "execute_result"
    }
   ],
   "source": [
    "import requests\n",
    "from bs4 import BeautifulSoup\n",
    "\n",
    "headers = {'User-Agent': 'Mozilla/5.0 (Windows NT 10.0; Win64; x64) AppleWebKit/537.36 (KHTML, like Gecko) Chrome/91.0.4472.124 Safari/537.36'}\n",
    "url = \"https://finance.yahoo.com/quote/GME/financials?p=GME\"\n",
    "html = requests.get(url, headers=headers)\n",
    "#print(html.text)                           #prints the whole website's HTML\n",
    "html"
   ]
  },
  {
   "cell_type": "markdown",
   "id": "18e072fc-f32e-4982-9d30-ffaaf52d46f4",
   "metadata": {},
   "source": [
    "* ### Let's just extract the revenue this time"
   ]
  },
  {
   "cell_type": "code",
   "execution_count": 135,
   "id": "40b8f9b2-b12c-43e1-81d7-4b4bda04c75f",
   "metadata": {
    "tags": []
   },
   "outputs": [
    {
     "data": {
      "text/html": [
       "<div>\n",
       "<style scoped>\n",
       "    .dataframe tbody tr th:only-of-type {\n",
       "        vertical-align: middle;\n",
       "    }\n",
       "\n",
       "    .dataframe tbody tr th {\n",
       "        vertical-align: top;\n",
       "    }\n",
       "\n",
       "    .dataframe thead th {\n",
       "        text-align: right;\n",
       "    }\n",
       "</style>\n",
       "<table border=\"1\" class=\"dataframe\">\n",
       "  <thead>\n",
       "    <tr style=\"text-align: right;\">\n",
       "      <th></th>\n",
       "      <th>Breakdown</th>\n",
       "      <th>ttm</th>\n",
       "      <th>1/31/2023</th>\n",
       "      <th>1/31/2022</th>\n",
       "      <th>1/31/2021</th>\n",
       "      <th>1/31/2020</th>\n",
       "    </tr>\n",
       "  </thead>\n",
       "  <tbody>\n",
       "  </tbody>\n",
       "</table>\n",
       "</div>"
      ],
      "text/plain": [
       "Empty DataFrame\n",
       "Columns: [Breakdown, ttm, 1/31/2023, 1/31/2022, 1/31/2021, 1/31/2020]\n",
       "Index: []"
      ]
     },
     "execution_count": 135,
     "metadata": {},
     "output_type": "execute_result"
    }
   ],
   "source": [
    "soup = BeautifulSoup(html.text, 'lxml')\n",
    "headers_row = soup.find(\"div\", class_ = \"D(tbr) C($primaryColor)\")\n",
    "\n",
    "headers_val = []\n",
    "\n",
    "for i in headers_row:\n",
    "    #print(i.text)\n",
    "    headers_val.append(i.text)\n",
    "    \n",
    "import pandas as pd\n",
    "\n",
    "df_3 = pd.DataFrame(columns = headers_val)\n",
    "df_3"
   ]
  },
  {
   "cell_type": "markdown",
   "id": "61131380-f108-4794-9f25-350a70892f36",
   "metadata": {},
   "source": [
    "* ### Merge revenue to df"
   ]
  },
  {
   "cell_type": "code",
   "execution_count": 136,
   "id": "32f5f348-0c74-4cca-9a9a-5db9b1b0f667",
   "metadata": {
    "tags": []
   },
   "outputs": [
    {
     "name": "stdout",
     "output_type": "stream",
     "text": [
      "Total Revenue\n",
      "5,705,600\n",
      "5,927,200\n",
      "6,010,700\n",
      "5,089,800\n",
      "6,466,000\n"
     ]
    },
    {
     "data": {
      "text/html": [
       "<div>\n",
       "<style scoped>\n",
       "    .dataframe tbody tr th:only-of-type {\n",
       "        vertical-align: middle;\n",
       "    }\n",
       "\n",
       "    .dataframe tbody tr th {\n",
       "        vertical-align: top;\n",
       "    }\n",
       "\n",
       "    .dataframe thead th {\n",
       "        text-align: right;\n",
       "    }\n",
       "</style>\n",
       "<table border=\"1\" class=\"dataframe\">\n",
       "  <thead>\n",
       "    <tr style=\"text-align: right;\">\n",
       "      <th></th>\n",
       "      <th>Breakdown</th>\n",
       "      <th>ttm</th>\n",
       "      <th>1/31/2023</th>\n",
       "      <th>1/31/2022</th>\n",
       "      <th>1/31/2021</th>\n",
       "      <th>1/31/2020</th>\n",
       "    </tr>\n",
       "  </thead>\n",
       "  <tbody>\n",
       "    <tr>\n",
       "      <th>0</th>\n",
       "      <td>Total Revenue</td>\n",
       "      <td>5,705,600</td>\n",
       "      <td>5,927,200</td>\n",
       "      <td>6,010,700</td>\n",
       "      <td>5,089,800</td>\n",
       "      <td>6,466,000</td>\n",
       "    </tr>\n",
       "  </tbody>\n",
       "</table>\n",
       "</div>"
      ],
      "text/plain": [
       "       Breakdown        ttm  1/31/2023  1/31/2022  1/31/2021  1/31/2020\n",
       "0  Total Revenue  5,705,600  5,927,200  6,010,700  5,089,800  6,466,000"
      ]
     },
     "execution_count": 136,
     "metadata": {},
     "output_type": "execute_result"
    }
   ],
   "source": [
    "revenue_row = soup.find(\"div\", class_ = \"D(tbr) fi-row Bgc($hoverBgColor):h\") \n",
    "rev = []\n",
    "\n",
    "for i in revenue_row:\n",
    "    print(i.text) \n",
    "    rev.append(i.text)\n",
    "    \n",
    "l = len(df_3)                                         #assign row numbers to df\n",
    "df_3.loc[l] = rev\n",
    "df_3\n",
    "    "
   ]
  },
  {
   "cell_type": "markdown",
   "id": "c5bee413-8c2d-424a-873d-1cd0816f6ab4",
   "metadata": {},
   "source": [
    "### 5. Tesla Stock and Revenue Dashboard"
   ]
  },
  {
   "cell_type": "code",
   "execution_count": 113,
   "id": "151c7902-8142-4743-b0bb-5c58a5957bcf",
   "metadata": {
    "tags": []
   },
   "outputs": [
    {
     "data": {
      "image/png": "[encoded data removed]",
      "text/plain": [
       "<Figure size 1000x600 with 1 Axes>"
      ]
     },
     "metadata": {},
     "output_type": "display_data"
    }
   ],
   "source": [
    "import matplotlib.pyplot as plt\n",
    "\n",
    "plt.figure(figsize=(10, 6))\n",
    "plt.plot(df.index, df['Close'], label='TSLA Close Price')\n",
    "plt.title('Tesla (TSLA) Stock Close Price Over Time')\n",
    "plt.xlabel('Date')\n",
    "plt.ylabel('Close Price (USD)')\n",
    "plt.legend()\n",
    "plt.grid(True)\n",
    "plt.show()"
   ]
  },
  {
   "cell_type": "code",
   "execution_count": 151,
   "id": "396bcbc1-7eb7-43d3-96b3-cf2c918269bd",
   "metadata": {
    "tags": []
   },
   "outputs": [
    {
     "data": {
      "image/png": "[encoded data removed]",
      "text/plain": [
       "<Figure size 1000x600 with 1 Axes>"
      ]
     },
     "metadata": {},
     "output_type": "display_data"
    }
   ],
   "source": [
    "\n",
    "# Sample DataFrame\n",
    "data = {'Breakdown': ['ttm', '12/31/2022', '12/31/2021', '12/31/2020'],\n",
    "        'Revenue': ['76,925,000', '60,609,000', '40,217,000', '24,906,000']}\n",
    "\n",
    "df = pd.DataFrame(data)\n",
    "df['Revenue'] = pd.to_numeric(df['Revenue'].str.replace(',', ''))\n",
    "\n",
    "# Plotting\n",
    "plt.figure(figsize=(10, 6))\n",
    "plt.bar(df['Breakdown'], df['Revenue'], color='skyblue')\n",
    "plt.title('Revenue Over Time')\n",
    "plt.xlabel('Breakdown')\n",
    "plt.ylabel('Revenue')\n",
    "plt.grid(True)\n",
    "plt.show()"
   ]
  },
  {
   "cell_type": "markdown",
   "id": "78e8f74b-acdb-4b5e-a397-d0ef603ddb9e",
   "metadata": {},
   "source": [
    "### 6. GameStop Stock and Revenue Dashboard"
   ]
  },
  {
   "cell_type": "code",
   "execution_count": 137,
   "id": "649864ad-19e7-481e-b726-bc637c2c46d8",
   "metadata": {
    "tags": []
   },
   "outputs": [
    {
     "data": {
      "image/png": "[encoded data removed]",
      "text/plain": [
       "<Figure size 1000x600 with 1 Axes>"
      ]
     },
     "metadata": {},
     "output_type": "display_data"
    }
   ],
   "source": [
    "plt.figure(figsize=(10, 6))\n",
    "plt.plot(game_stp_stck.index, game_stp_stck['Close'], label='GME Close Price')\n",
    "plt.title('GameStop (GME) Stock Close Price Over Time')\n",
    "plt.xlabel('Date')\n",
    "plt.ylabel('Close Price (USD)')\n",
    "plt.legend()\n",
    "plt.grid(True)\n",
    "plt.show()"
   ]
  },
  {
   "cell_type": "code",
   "execution_count": 139,
   "id": "16c413fd-87b8-40c7-9871-33e9295dd2c3",
   "metadata": {
    "tags": []
   },
   "outputs": [
    {
     "data": {
      "image/png": "[encoded data removed]",
      "text/plain": [
       "<Figure size 1000x600 with 1 Axes>"
      ]
     },
     "metadata": {},
     "output_type": "display_data"
    }
   ],
   "source": [
    "# Sample DataFrame\n",
    "data = {'Breakdown': ['ttm', '1/31/2023', '1/31/2022', '1/31/2021', '1/31/2020'],\n",
    "        'Total Revenue': ['5,705,600', '5,927,200', '6,010,700', '5,089,800', '6,466,000']}\n",
    "\n",
    "df = pd.DataFrame(data)\n",
    "df['Total Revenue'] = pd.to_numeric(df['Total Revenue'].str.replace(',', ''))\n",
    "\n",
    "# Plotting\n",
    "plt.figure(figsize=(10, 6))\n",
    "plt.bar(df['Breakdown'], df['Total Revenue'], color='skyblue')\n",
    "plt.title('Total Revenue Over Time')\n",
    "plt.xlabel('Breakdown')\n",
    "plt.ylabel('Total Revenue')\n",
    "plt.grid(True)\n",
    "plt.show()"
   ]
  },
  {
   "cell_type": "markdown",
   "id": "335362d6-3c1d-4dd3-98ab-35123fff19a4",
   "metadata": {},
   "source": [
    "### 7. Sharing your Assignment Notebook"
   ]
  },
  {
   "cell_type": "code",
   "execution_count": null,
   "id": "a9d135ee-0016-4e5e-8873-8ded119aa836",
   "metadata": {},
   "outputs": [],
   "source": []
  }
 ],
 "metadata": {
  "kernelspec": {
   "display_name": "Python 3 (ipykernel)",
   "language": "python",
   "name": "python3"
  },
  "language_info": {
   "codemirror_mode": {
    "name": "ipython",
    "version": 3
   },
   "file_extension": ".py",
   "mimetype": "text/x-python",
   "name": "python",
   "nbconvert_exporter": "python",
   "pygments_lexer": "ipython3",
   "version": "3.11.5"
  }
 },
 "nbformat": 4,
 "nbformat_minor": 5
}
